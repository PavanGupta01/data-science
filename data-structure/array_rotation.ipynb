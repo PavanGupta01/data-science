{
 "cells": [
  {
   "cell_type": "code",
   "execution_count": 10,
   "metadata": {},
   "outputs": [
    {
     "name": "stdout",
     "output_type": "stream",
     "text": [
      "before rotation:  [1, 2, 3, 4, 5, 6, 7]\n",
      "after rotation:  [3, 4, 5, 6, 7, 1, 2]\n"
     ]
    }
   ],
   "source": [
    "def rotate_array(arr, rotate_by):\n",
    "    rotate_list = arr[:rotate_by]\n",
    "    arr = arr[rotate_by:] + rotate_list\n",
    "    return arr\n",
    "    \n",
    "a = [1,2,3,4,5,6,7]\n",
    "\n",
    "print('before rotation: ', a)\n",
    "a = rotate_array(a, 2)\n",
    "print('after rotation: ', a)"
   ]
  },
  {
   "cell_type": "code",
   "execution_count": 11,
   "metadata": {},
   "outputs": [
    {
     "name": "stdout",
     "output_type": "stream",
     "text": [
      "hello\n"
     ]
    }
   ],
   "source": [
    "print('hello')"
   ]
  },
  {
   "cell_type": "code",
   "execution_count": 7,
   "metadata": {},
   "outputs": [],
   "source": [
    "def performOps(A):\n",
    "    m = len(A)\n",
    "    n = len(A[0])\n",
    "    B = []\n",
    "    for i in range(len(A)):\n",
    "        B.append([0] * n)\n",
    "        for j in range(len(A[i])):\n",
    "            import pdb;pdb.set_trace()\n",
    "            B[i][n - 1 - j] = A[i][j]\n",
    "    return B\n",
    "\n",
    "A = [[1, 2, 3, 4], [5, 6, 7, 8], [9, 10, 11, 12]]"
   ]
  },
  {
   "cell_type": "code",
   "execution_count": 8,
   "metadata": {},
   "outputs": [
    {
     "name": "stdout",
     "output_type": "stream",
     "text": [
      "> <ipython-input-7-5a8eb8390649>(9)performOps()\n",
      "-> B[i][n - 1 - j] = A[i][j]\n",
      "(Pdb) b\n",
      "(Pdb) B\n",
      "[[0, 0, 0, 0]]\n",
      "(Pdb) n\n",
      "> <ipython-input-7-5a8eb8390649>(7)performOps()\n",
      "-> for j in range(len(A[i])):\n",
      "(Pdb) c\n",
      "> <ipython-input-7-5a8eb8390649>(9)performOps()\n",
      "-> B[i][n - 1 - j] = A[i][j]\n",
      "(Pdb) B\n",
      "[[0, 0, 0, 1]]\n",
      "(Pdb) c\n",
      "> <ipython-input-7-5a8eb8390649>(8)performOps()\n",
      "-> import pdb;pdb.set_trace()\n",
      "(Pdb) B\n",
      "[[0, 0, 2, 1]]\n",
      "(Pdb) B\n",
      "[[0, 0, 2, 1]]\n",
      "(Pdb) c\n",
      "> <ipython-input-7-5a8eb8390649>(9)performOps()\n",
      "-> B[i][n - 1 - j] = A[i][j]\n",
      "(Pdb) c\n",
      "> <ipython-input-7-5a8eb8390649>(8)performOps()\n",
      "-> import pdb;pdb.set_trace()\n",
      "(Pdb) B\n",
      "[[4, 3, 2, 1], [0, 0, 0, 0]]\n",
      "(Pdb) c\n",
      "> <ipython-input-7-5a8eb8390649>(9)performOps()\n",
      "-> B[i][n - 1 - j] = A[i][j]\n",
      "(Pdb) c\n",
      "> <ipython-input-7-5a8eb8390649>(8)performOps()\n",
      "-> import pdb;pdb.set_trace()\n",
      "(Pdb) c\n",
      "> <ipython-input-7-5a8eb8390649>(9)performOps()\n",
      "-> B[i][n - 1 - j] = A[i][j]\n",
      "(Pdb) c\n",
      "> <ipython-input-7-5a8eb8390649>(8)performOps()\n",
      "-> import pdb;pdb.set_trace()\n",
      "(Pdb) c\n",
      "> <ipython-input-7-5a8eb8390649>(9)performOps()\n",
      "-> B[i][n - 1 - j] = A[i][j]\n",
      "(Pdb) cc\n",
      "*** NameError: name 'cc' is not defined\n",
      "(Pdb) c\n",
      "> <ipython-input-7-5a8eb8390649>(8)performOps()\n",
      "-> import pdb;pdb.set_trace()\n",
      "(Pdb) c\n",
      "> <ipython-input-7-5a8eb8390649>(9)performOps()\n",
      "-> B[i][n - 1 - j] = A[i][j]\n",
      "(Pdb) c\n",
      "4\n",
      "3\n",
      "2\n",
      "1\n",
      "8\n",
      "7\n",
      "6\n",
      "5\n",
      "12\n",
      "11\n",
      "10\n",
      "9\n"
     ]
    }
   ],
   "source": [
    "B = performOps(A)\n",
    "for i in range(len(B)):\n",
    "    for j in range(len(B[i])):\n",
    "        print(B[i][j])"
   ]
  },
  {
   "cell_type": "code",
   "execution_count": null,
   "metadata": {},
   "outputs": [],
   "source": []
  },
  {
   "cell_type": "code",
   "execution_count": null,
   "metadata": {},
   "outputs": [],
   "source": []
  },
  {
   "cell_type": "code",
   "execution_count": null,
   "metadata": {},
   "outputs": [],
   "source": []
  }
 ],
 "metadata": {
  "kernelspec": {
   "display_name": "Python 3",
   "language": "python",
   "name": "python3"
  },
  "language_info": {
   "codemirror_mode": {
    "name": "ipython",
    "version": 3
   },
   "file_extension": ".py",
   "mimetype": "text/x-python",
   "name": "python",
   "nbconvert_exporter": "python",
   "pygments_lexer": "ipython3",
   "version": "3.5.2"
  }
 },
 "nbformat": 4,
 "nbformat_minor": 2
}
