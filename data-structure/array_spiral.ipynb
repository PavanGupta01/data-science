{
 "cells": [
  {
   "cell_type": "code",
   "execution_count": 21,
   "metadata": {},
   "outputs": [
    {
     "name": "stdout",
     "output_type": "stream",
     "text": [
      "1\n",
      "2\n",
      "4\n",
      "6\n",
      "5\n",
      "3\n"
     ]
    }
   ],
   "source": [
    "A = [\n",
    "  [1, 2, 3, 4, 5],\n",
    "  [6, 7, 8, 9, 10],\n",
    "  [11, 12, 13, 14, 15],\n",
    "  [16, 17, 18, 19, 20]\n",
    "]\n",
    "\n",
    "B = [[1]]\n",
    "\n",
    "C = [\n",
    "  [1, 2],\n",
    "  [3, 4], \n",
    "  [5, 6],\n",
    "]\n",
    "\n",
    "def spiralOrder(A):\n",
    "    m = len(A)\n",
    "    n = len(A[0])\n",
    "#     print(m, n)\n",
    "\n",
    "    if m <= 1:\n",
    "        return A[0]\n",
    "    \n",
    "    top = 0\n",
    "    bottom = m - 1\n",
    "    left = 0\n",
    "    right = n - 1\n",
    "    \n",
    "    direction = 0\n",
    "    \n",
    "    while (top <= bottom and left <= right):\n",
    "        if direction == 0: # L to R\n",
    "            for i in range(left, right + 1):\n",
    "                print(A[top][i])\n",
    "            top += 1\n",
    "            \n",
    "        elif direction == 1: # T to B\n",
    "            for i in range(top, bottom + 1):\n",
    "                print(A[i][right])\n",
    "            right -= 1\n",
    "            \n",
    "        elif direction == 2: # R to L\n",
    "            for i in range(right, left - 1, -1):\n",
    "                print(A[bottom][i])\n",
    "            bottom -= 1\n",
    "            \n",
    "        elif direction == 3: # B to T\n",
    "            for i in range(bottom, top - 1, -1):\n",
    "                print(A[i][left])\n",
    "            left += 1   \n",
    "        \n",
    "        direction = (direction + 1) % 4\n",
    "\n",
    "#     print(A)\n",
    "        \n",
    "        \n",
    "        \n",
    "spiralOrder(C)"
   ]
  },
  {
   "cell_type": "code",
   "execution_count": 14,
   "metadata": {},
   "outputs": [
    {
     "name": "stdout",
     "output_type": "stream",
     "text": [
      "5\n",
      "4\n"
     ]
    }
   ],
   "source": [
    "for i in range(5, 3, -1):\n",
    "    print(i)"
   ]
  },
  {
   "cell_type": "code",
   "execution_count": null,
   "metadata": {},
   "outputs": [],
   "source": []
  }
 ],
 "metadata": {
  "kernelspec": {
   "display_name": "Python 3",
   "language": "python",
   "name": "python3"
  },
  "language_info": {
   "codemirror_mode": {
    "name": "ipython",
    "version": 3
   },
   "file_extension": ".py",
   "mimetype": "text/x-python",
   "name": "python",
   "nbconvert_exporter": "python",
   "pygments_lexer": "ipython3",
   "version": "3.5.2"
  }
 },
 "nbformat": 4,
 "nbformat_minor": 2
}
