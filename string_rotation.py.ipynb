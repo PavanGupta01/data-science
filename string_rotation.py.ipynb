{
 "cells": [
  {
   "cell_type": "code",
   "execution_count": 1,
   "metadata": {},
   "outputs": [],
   "source": [
    "def turn(s, num):\n",
    "    temp = s[-num:]\n",
    "    s = s[:-num]\n",
    "    return temp + s\n",
    "\n",
    "def get_turns(s, itr1, itr2):\n",
    "    original = s\n",
    "    print('original:', original)\n",
    "    i = 1\n",
    "    while True:\n",
    "        if i%2 == 0:\n",
    "            s = turn(s, itr2)\n",
    "        else:\n",
    "            s = turn(s, itr1)\n",
    "        print('turn',i, s)\n",
    "        if s == original:\n",
    "            break\n",
    "        i += 1\n",
    "    \n",
    "    return i\n",
    "        \n"
   ]
  },
  {
   "cell_type": "code",
   "execution_count": 2,
   "metadata": {},
   "outputs": [
    {
     "name": "stdout",
     "output_type": "stream",
     "text": [
      "original: abcabc\n",
      "turn 1 cabcab\n",
      "turn 2 abcabc\n"
     ]
    },
    {
     "data": {
      "text/plain": [
       "2"
      ]
     },
     "execution_count": 2,
     "metadata": {},
     "output_type": "execute_result"
    }
   ],
   "source": [
    "get_turns('abcabc', 1, 2)"
   ]
  },
  {
   "cell_type": "code",
   "execution_count": null,
   "metadata": {
    "collapsed": true
   },
   "outputs": [],
   "source": []
  },
  {
   "cell_type": "code",
   "execution_count": null,
   "metadata": {
    "collapsed": true
   },
   "outputs": [],
   "source": []
  }
 ],
 "metadata": {
  "kernelspec": {
   "display_name": "Python 3",
   "language": "python",
   "name": "python3"
  },
  "language_info": {
   "codemirror_mode": {
    "name": "ipython",
    "version": 3
   },
   "file_extension": ".py",
   "mimetype": "text/x-python",
   "name": "python",
   "nbconvert_exporter": "python",
   "pygments_lexer": "ipython3",
   "version": "3.5.2"
  }
 },
 "nbformat": 4,
 "nbformat_minor": 2
}
